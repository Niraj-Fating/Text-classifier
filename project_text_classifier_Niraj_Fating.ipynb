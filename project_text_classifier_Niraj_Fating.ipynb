{
 "cells": [
  {
   "cell_type": "code",
   "execution_count": null,
   "id": "d35a3529-18a6-4f16-8986-270b8a396204",
   "metadata": {},
   "outputs": [],
   "source": [
    "import numpy as np\n",
    "import tensorflow as tf\n",
    "import tensorflow_hub as hub\n",
    "import tensorflow_datasets as tfds\n",
    "import keras.models as Sequential\n",
    "import keras.layers as Dense"
   ]
  },
  {
   "cell_type": "code",
   "execution_count": null,
   "id": "a28aa340-0a09-42d5-8b5a-ee5da94ba9ae",
   "metadata": {},
   "outputs": [],
   "source": [
    "train_data, validation_data, test_data = tfds.load(name=\"imdb_reviews\",\n",
    "                                                    split=('train[:60%]', 'train[60%:]', 'test'),\n",
    "                                                    as_supervised=True)"
   ]
  },
  {
   "cell_type": "code",
   "execution_count": null,
   "id": "bd595175-744a-4f81-a49e-b616cf23ebd9",
   "metadata": {},
   "outputs": [],
   "source": [
    "train_data"
   ]
  },
  {
   "cell_type": "code",
   "execution_count": null,
   "id": "f1ee52f0-9ecc-4f6d-a3c3-96c1e4a73856",
   "metadata": {},
   "outputs": [],
   "source": [
    "train_example_batch, train_lables_batch = next(iter(train_data.batch(10)))"
   ]
  },
  {
   "cell_type": "code",
   "execution_count": null,
   "id": "0f877a30-f0f6-4249-ab8b-52066969f536",
   "metadata": {},
   "outputs": [],
   "source": [
    "train_example_batch"
   ]
  },
  {
   "cell_type": "code",
   "execution_count": null,
   "id": "d95b1276-8881-499b-8d7f-7d25be1546fa",
   "metadata": {},
   "outputs": [],
   "source": [
    "train_lables_batch"
   ]
  },
  {
   "cell_type": "code",
   "execution_count": null,
   "id": "56e554aa-f66f-4d06-9281-b6819f01c5a5",
   "metadata": {},
   "outputs": [],
   "source": [
    "embedding = \"https://tfhub.dev/google/tf2-preview/gnews-swivel-20dim/1\"\n",
    "hub_layer = hub.KerasLayer(embedding, input_shape = [], dtype=tf.string, trainable=True)"
   ]
  },
  {
   "cell_type": "code",
   "execution_count": null,
   "id": "42dba1be-1460-4cbc-bc80-ceafaba4ab12",
   "metadata": {},
   "outputs": [],
   "source": [
    "hub_layer(train_example_batch[:3])"
   ]
  },
  {
   "cell_type": "code",
   "execution_count": null,
   "id": "756a4b31-2f83-41b1-8dc0-6e6420637c95",
   "metadata": {},
   "outputs": [],
   "source": [
    "model = tf.Keras.Sequential()\n",
    "model.add(hub_layer)\n",
    "model.add(tf.keras.layers.Dense(16, activation = 'relu'))\n",
    "model.add(tf.keras.layers.Dense(1))"
   ]
  },
  {
   "cell_type": "code",
   "execution_count": null,
   "id": "4a6d02e5-4868-4eb0-b6eb-06990103f450",
   "metadata": {},
   "outputs": [],
   "source": [
    "model.summary()"
   ]
  },
  {
   "cell_type": "code",
   "execution_count": null,
   "id": "87cd6abe-dbbd-4c2c-a837-a23f9ac68d0f",
   "metadata": {},
   "outputs": [],
   "source": [
    "model.compile(optimizer='adam', loss=tf.keras.losses.BinaryCrossentropy(from_logits=True),metrics=['accuracy'])"
   ]
  },
  {
   "cell_type": "code",
   "execution_count": null,
   "id": "fbbb0c67-a252-4a09-a661-c5384ef56c4e",
   "metadata": {},
   "outputs": [],
   "source": [
    "history = model.fit(train_data.shuffle(10000).batch(100), epochs = 25,\n",
    "                   validation_data = validation_data.batch(100), verbose=1)"
   ]
  },
  {
   "cell_type": "code",
   "execution_count": null,
   "id": "ca73225c-41be-486c-98e6-dd76c138120c",
   "metadata": {},
   "outputs": [],
   "source": [
    "result = model.evaluate(test_data.batch(100), verbose=2)\n",
    "    \n",
    "for name, value in zip(model.matrics_names, result):\n",
    "    print(\"%s: %.3f\" % (name, value))"
   ]
  },
  {
   "cell_type": "markdown",
   "id": "2abe56c1-a3bb-4aa9-90d6-30aa5441b9f4",
   "metadata": {},
   "source": [
    "Name : Niraj Fating \n",
    "Email: nirajfating.23@stvincentngp.edu.in"
   ]
  }
 ],
 "metadata": {
  "kernelspec": {
   "display_name": "Python 3 (ipykernel)",
   "language": "python",
   "name": "python3"
  },
  "language_info": {
   "codemirror_mode": {
    "name": "ipython",
    "version": 3
   },
   "file_extension": ".py",
   "mimetype": "text/x-python",
   "name": "python",
   "nbconvert_exporter": "python",
   "pygments_lexer": "ipython3",
   "version": "3.12.4"
  }
 },
 "nbformat": 4,
 "nbformat_minor": 5
}
